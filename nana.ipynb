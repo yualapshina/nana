{
  "nbformat": 4,
  "nbformat_minor": 0,
  "metadata": {
    "colab": {
      "provenance": [],
      "authorship_tag": "ABX9TyOotnVAR9hc0vZfYJh1r/KU",
      "include_colab_link": true
    },
    "kernelspec": {
      "name": "python3",
      "display_name": "Python 3"
    },
    "language_info": {
      "name": "python"
    }
  },
  "cells": [
    {
      "cell_type": "markdown",
      "metadata": {
        "id": "view-in-github",
        "colab_type": "text"
      },
      "source": [
        "<a href=\"https://colab.research.google.com/github/yualapshina/nana/blob/main/nana.ipynb\" target=\"_parent\"><img src=\"https://colab.research.google.com/assets/colab-badge.svg\" alt=\"Open In Colab\"/></a>"
      ]
    },
    {
      "cell_type": "code",
      "source": [
        "from enum import IntEnum, auto\n",
        "from copy import deepcopy\n",
        "from itertools import chain\n",
        "import matplotlib.pyplot as plt\n",
        "import numpy as np"
      ],
      "metadata": {
        "id": "ed-1St4SJWaG"
      },
      "execution_count": 182,
      "outputs": []
    },
    {
      "cell_type": "markdown",
      "source": [
        "# structures"
      ],
      "metadata": {
        "id": "or8T02yU06Ku"
      }
    },
    {
      "cell_type": "code",
      "source": [
        "class State(IntEnum):\n",
        "  FULL = auto()\n",
        "  EMPTY = auto()\n",
        "  ACTIVE = auto()"
      ],
      "metadata": {
        "id": "d3a1mQZjIoTY"
      },
      "execution_count": 183,
      "outputs": []
    },
    {
      "cell_type": "code",
      "execution_count": 184,
      "metadata": {
        "id": "Pw1xf9ft9dLm"
      },
      "outputs": [],
      "source": [
        "class Line:\n",
        "\n",
        "  def __init__(self, size, start, finish, index, content=[]):\n",
        "    self.size = size\n",
        "    self.start = start\n",
        "    self.finish = finish\n",
        "    self.index = index\n",
        "    self.content = deepcopy(content)\n",
        "\n",
        "  def fill_from_field(self, field):\n",
        "    count = 0\n",
        "    xs, ys = self.init_coords()\n",
        "    for x, y in zip(xs, ys):\n",
        "      cell = field[x][y]\n",
        "      if cell == State.FULL:\n",
        "        count += 1\n",
        "      elif count:\n",
        "        self.content.append(count)\n",
        "        count = 0\n",
        "    if count:\n",
        "      self.content.append(count)\n",
        "\n",
        "  def len(self):\n",
        "    return self.finish - self.start + 1\n",
        "\n",
        "  def sum(self):\n",
        "    return sum(self.content) + len(self.content) - 1\n",
        "\n",
        "  def n(self):\n",
        "    return len(self.content)\n",
        "\n",
        "  def __str__(self):\n",
        "    return str(self.index) + ': ' + str(self.start) + ' - ' \\\n",
        "    + str(self.content)+ ' - ' + str(self.finish)\n",
        "\n",
        "  def init_coords(self):\n",
        "    pass\n",
        "\n",
        "  def coords(self, x):\n",
        "    pass"
      ]
    },
    {
      "cell_type": "code",
      "source": [
        "class LineLeft(Line):\n",
        "\n",
        "  def init_coords(self):\n",
        "    return [self.index] * self.size, range(self.size)\n",
        "\n",
        "  def coords(self, x):\n",
        "    return self.index, x\n",
        "\n",
        "class LineRight(Line):\n",
        "\n",
        "  def init_coords(self):\n",
        "    return [self.index] * self.size, range(self.size-1, -1, -1)\n",
        "\n",
        "  def coords(self, x):\n",
        "    return self.index, self.size - x - 1\n",
        "\n",
        "class LineTop(Line):\n",
        "\n",
        "  def init_coords(self):\n",
        "    return range(self.size), [self.index] * self.size\n",
        "\n",
        "  def coords(self, x):\n",
        "    return x, self.index\n",
        "\n",
        "class LineBottom(Line):\n",
        "\n",
        "  def init_coords(self):\n",
        "    return range(self.size-1, -1, -1), [self.index] * self.size\n",
        "\n",
        "  def coords(self, x):\n",
        "    return self.size - x - 1, self.index"
      ],
      "metadata": {
        "id": "kHsTxI-NFbLg"
      },
      "execution_count": 185,
      "outputs": []
    },
    {
      "cell_type": "code",
      "source": [
        "class Puzzle:\n",
        "\n",
        "  def __init__(self, size, cmap='dark'):\n",
        "    self.size = size\n",
        "    self.cmap = cmap\n",
        "    self.field = []\n",
        "\n",
        "  def fill_pattern(self, pattern):\n",
        "    assert(len(pattern) == self.size)\n",
        "    for r in pattern:\n",
        "      row = []\n",
        "      for c in r:\n",
        "        row.append(State.FULL if c else State.EMPTY)\n",
        "      self.field.append(row)\n",
        "\n",
        "  def fill_random(self, density=0.5):\n",
        "    for i in range(self.size):\n",
        "      row = []\n",
        "      for j in range(self.size):\n",
        "        row.append(np.random.choice((State.FULL, State.EMPTY), p=[density, 1-density]))\n",
        "      self.field.append(row)\n",
        "\n",
        "  def parse(self):\n",
        "    self.bar_left = []\n",
        "    self.bar_right = []\n",
        "    self.bar_top = []\n",
        "    self.bar_bottom = []\n",
        "    for i in range(self.size):\n",
        "      self.bar_left.append(LineLeft(self.size, 0, self.size-1, i))\n",
        "      self.bar_right.append(LineRight(self.size, 0, self.size-1, i))\n",
        "      self.bar_top.append(LineTop(self.size, 0, self.size-1, i))\n",
        "      self.bar_bottom.append(LineBottom(self.size, 0, self.size-1, i))\n",
        "\n",
        "    for line in self.allbars():\n",
        "      line.fill_from_field(self.field)\n",
        "\n",
        "  def clean(self):\n",
        "    for i in range(self.size):\n",
        "      for j in range(self.size):\n",
        "        self.field[i][j] = State.ACTIVE\n",
        "\n",
        "  def allbars(self):\n",
        "    return chain(self.bar_left, self.bar_right, self.bar_top, self.bar_bottom)\n",
        "\n",
        "  def print_bars(self):\n",
        "    print('left')\n",
        "    for line in self.bar_left:\n",
        "      print(line)\n",
        "    print('right')\n",
        "    for line in self.bar_right:\n",
        "      print(line)\n",
        "    print('top')\n",
        "    for line in self.bar_top:\n",
        "      print(line)\n",
        "    print('bottom')\n",
        "    for line in self.bar_bottom:\n",
        "      print(line)"
      ],
      "metadata": {
        "id": "Zvwj-SgpZmGd"
      },
      "execution_count": 186,
      "outputs": []
    },
    {
      "cell_type": "markdown",
      "source": [
        "# graphics"
      ],
      "metadata": {
        "id": "eV7pyhQ31U1I"
      }
    },
    {
      "cell_type": "code",
      "source": [
        "background = {'dark': '#383838', 'light': '#f5e7a3'}\n",
        "main = {'dark': '#f5e7a3', 'light': '#383838'}\n",
        "grid = {'dark': 'black', 'light': 'white'}\n",
        "marker = {'dark': '#ff79bc', 'light': '#ff79bc'}\n",
        "marker_font = {'dark': 'black', 'light': 'black'}"
      ],
      "metadata": {
        "id": "VCkDJ6Yq49pA"
      },
      "execution_count": 187,
      "outputs": []
    },
    {
      "cell_type": "code",
      "source": [
        "def draw_puzzle(puzzle):\n",
        "  fig = plt.figure(figsize=(puzzle.size / 2, puzzle.size / 2), facecolor=background[puzzle.cmap])\n",
        "  ax = plt.axes()\n",
        "  ax.set_facecolor(background[puzzle.cmap])\n",
        "  ax.get_xaxis().set_visible(False)\n",
        "  ax.get_yaxis().set_visible(False)\n",
        "\n",
        "  grid_size = puzzle.size + 1\n",
        "  for i in range(grid_size):\n",
        "    plt.plot(range(grid_size), [i] * grid_size, color=grid[puzzle.cmap], linewidth=1)\n",
        "    plt.plot([i] * grid_size, range(grid_size), color=grid[puzzle.cmap], linewidth=1)\n",
        "    if (not i % 5) or (i == puzzle.size):\n",
        "      plt.plot(range(grid_size), [i] * grid_size, color=grid[puzzle.cmap], linewidth=2)\n",
        "      plt.plot([i] * grid_size, range(grid_size), color=grid[puzzle.cmap], linewidth=2)\n",
        "\n",
        "  for i in range(puzzle.size):\n",
        "    for j in range(puzzle.size):\n",
        "      x = j + 0.5\n",
        "      y = puzzle.size - i - 0.5\n",
        "      if puzzle.field[i][j] == State.FULL:\n",
        "        plt.scatter(x, y, s=361, c=main[puzzle.cmap], marker='s')\n",
        "      if puzzle.field[i][j] == State.EMPTY:\n",
        "        plt.scatter(x, y, c=main[puzzle.cmap], marker='.')\n",
        "\n",
        "  plt.show()"
      ],
      "metadata": {
        "id": "6yp5x-261Zac"
      },
      "execution_count": 188,
      "outputs": []
    },
    {
      "cell_type": "code",
      "source": [
        "pattern = [\n",
        "  [0, 0, 1, 0, 0],\n",
        "  [0, 0, 1, 1, 0],\n",
        "  [1, 1, 1, 1, 1],\n",
        "  [1, 0, 1, 0, 0],\n",
        "  [1, 1, 1, 0, 0],\n",
        "]\n",
        "\n",
        "puzzle = Puzzle(size=5, cmap='dark')\n",
        "# puzzle.fill_pattern(pattern=pattern)\n",
        "puzzle.fill_random(density=0.6)\n",
        "puzzle.parse()\n",
        "\n",
        "draw_puzzle(puzzle)\n",
        "puzzle.print_bars()"
      ],
      "metadata": {
        "colab": {
          "base_uri": "https://localhost:8080/",
          "height": 646
        },
        "id": "pXH69peRRMHh",
        "outputId": "b04da274-0e8e-418d-8af5-49a6ac0fdc94"
      },
      "execution_count": 189,
      "outputs": [
        {
          "output_type": "display_data",
          "data": {
            "text/plain": [
              "<Figure size 250x250 with 1 Axes>"
            ],
            "image/png": "[encoded data removed]"
          },
          "metadata": {}
        },
        {
          "output_type": "stream",
          "name": "stdout",
          "text": [
            "left\n",
            "0: 0 - [2] - 4\n",
            "1: 0 - [2] - 4\n",
            "2: 0 - [3] - 4\n",
            "3: 0 - [1, 2] - 4\n",
            "4: 0 - [2] - 4\n",
            "right\n",
            "0: 0 - [2] - 4\n",
            "1: 0 - [2] - 4\n",
            "2: 0 - [3] - 4\n",
            "3: 0 - [2, 1] - 4\n",
            "4: 0 - [2] - 4\n",
            "top\n",
            "0: 0 - [1, 1] - 4\n",
            "1: 0 - [5] - 4\n",
            "2: 0 - [1, 1] - 4\n",
            "3: 0 - [2] - 4\n",
            "4: 0 - [1] - 4\n",
            "bottom\n",
            "0: 0 - [1, 1] - 4\n",
            "1: 0 - [5] - 4\n",
            "2: 0 - [1, 1] - 4\n",
            "3: 0 - [2] - 4\n",
            "4: 0 - [1] - 4\n"
          ]
        }
      ]
    }
  ]
}